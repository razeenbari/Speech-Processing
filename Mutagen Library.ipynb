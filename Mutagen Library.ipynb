{
 "cells": [
  {
   "cell_type": "markdown",
   "metadata": {},
   "source": [
    "# Use of Mutagen"
   ]
  },
  {
   "cell_type": "markdown",
   "metadata": {},
   "source": [
    "Mutagen is a Python module to handle audio metadata. "
   ]
  },
  {
   "cell_type": "code",
   "execution_count": 1,
   "metadata": {},
   "outputs": [],
   "source": [
    "import mutagen\n",
    "from mutagen.wave import WAVE"
   ]
  },
  {
   "cell_type": "markdown",
   "metadata": {},
   "source": [
    "# Get the time of audio"
   ]
  },
  {
   "cell_type": "code",
   "execution_count": 1,
   "metadata": {},
   "outputs": [
    {
     "name": "stdout",
     "output_type": "stream",
     "text": [
      "Total Duration: 248\n"
     ]
    }
   ],
   "source": [
    "\n",
    "'''\n",
    "# function to convert the information into \n",
    "# some readable format\n",
    "def audio_duration(length):\n",
    "    hours = length // 3600  # calculate in hours\n",
    "    length %= 3600\n",
    "    mins = length // 60  # calculate in minutes\n",
    "    length %= 60\n",
    "    seconds = length  # calculate in seconds\n",
    "  \n",
    "    return hours, mins, seconds  # returns the duration\n",
    "'''\n",
    "# Create a WAVE object\n",
    "# Specify the directory address of your wavpack file\n",
    "# \"alarm.wav\" is the name of the audiofile\n",
    "audio = WAVE(\"music.wav\")\n",
    "  \n",
    "# contains all the metadata about the wavpack file\n",
    "audio_info = audio.info\n",
    "length = int(audio_info.length)\n",
    "print('Total Duration:',length)"
   ]
  },
  {
   "cell_type": "code",
   "execution_count": null,
   "metadata": {},
   "outputs": [],
   "source": []
  }
 ],
 "metadata": {
  "kernelspec": {
   "display_name": "Python 3",
   "language": "python",
   "name": "python3"
  },
  "language_info": {
   "codemirror_mode": {
    "name": "ipython",
    "version": 3
   },
   "file_extension": ".py",
   "mimetype": "text/x-python",
   "name": "python",
   "nbconvert_exporter": "python",
   "pygments_lexer": "ipython3",
   "version": "3.8.3"
  }
 },
 "nbformat": 4,
 "nbformat_minor": 4
}
